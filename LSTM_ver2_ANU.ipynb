{
 "cells": [
  {
   "cell_type": "code",
   "execution_count": null,
   "metadata": {
    "collapsed": false
   },
   "outputs": [],
   "source": [
    "from __future__ import print_function\n",
    "from keras.models import Sequential\n",
    "from keras.layers import Dense, Activation, Dropout\n",
    "from keras.layers import LSTM\n",
    "from keras.layers.convolutional import Convolution1D, MaxPooling1D\n",
    "from keras.optimizers import RMSprop\n",
    "from keras.utils.data_utils import get_file\n",
    "import numpy as np\n",
    "import random\n",
    "import sys\n"
   ]
  },
  {
   "cell_type": "code",
   "execution_count": null,
   "metadata": {
    "collapsed": false
   },
   "outputs": [],
   "source": [
    "path = 'RNU_random.txt'\n",
    "text = open(path).read().lower()\n",
    "text = text.strip('\\n')\n",
    "test = text[:20000]\n",
    "text = text[20000:]\n",
    "print('length:', len(text))"
   ]
  },
  {
   "cell_type": "code",
   "execution_count": null,
   "metadata": {
    "collapsed": true
   },
   "outputs": [],
   "source": [
    "def chunkstring(string, length):\n",
    "    return [string[0+i:length+i] for i in range(0, len(string), length)]"
   ]
  },
  {
   "cell_type": "code",
   "execution_count": null,
   "metadata": {
    "collapsed": false
   },
   "outputs": [],
   "source": [
    "chunk_len = 2\n",
    "chunk = chunkstring(text,chunk_len)"
   ]
  },
  {
   "cell_type": "code",
   "execution_count": null,
   "metadata": {
    "collapsed": false
   },
   "outputs": [],
   "source": [
    "hexs = sorted(list(set(chunk)))\n",
    "print(hexs)\n",
    "\n",
    "print('total number of hex:', len(hexs))\n",
    "\n",
    "hex_indices = dict((c, i) for i, c in enumerate(hexs))\n",
    "indices_hex = dict((i, c) for i, c in enumerate(hexs))"
   ]
  },
  {
   "cell_type": "code",
   "execution_count": null,
   "metadata": {
    "collapsed": false
   },
   "outputs": [],
   "source": [
    "# cut the text in semi-redundant sequences of maxlen characters\n",
    "maxlen = 501\n",
    "step = 41\n",
    "sequences = []\n",
    "next_hex = []\n",
    "for i in range(0, len(chunk) - maxlen, step):\n",
    "    sequences.append(text[i*chunk_len: (i + maxlen)*chunk_len])\n",
    "    next_hex.append(text[(i + maxlen)*chunk_len:(i + maxlen + 1)*chunk_len])\n",
    "print('number of sequences:', len(sequences))\n",
    "\n",
    "\n",
    "print('Vectorization...')\n",
    "X = np.zeros((len(sequences), maxlen, len(hexs)), dtype=np.bool)\n",
    "y = np.zeros((len(sequences), len(hexs)), dtype=np.bool)\n",
    "for i, sequence in enumerate(sequences):\n",
    "    #print ('sentence', sentence)\n",
    "    for t, char in enumerate(chunkstring(sequence,chunk_len)):        \n",
    "        X[i, t, hex_indices[char]] = 1\n",
    "    y[i, hex_indices[next_hex[i]]] = 1"
   ]
  },
  {
   "cell_type": "code",
   "execution_count": null,
   "metadata": {
    "collapsed": false
   },
   "outputs": [],
   "source": [
    "# build the model: a single LSTM\n",
    "print('Build model...')\n",
    "model = Sequential()\n",
    "model.add(Convolution1D(nb_filter=maxlen, filter_length=3, border_mode='valid', activation='relu',input_shape=(maxlen, len(hexs))))\n",
    "model.add(MaxPooling1D(pool_length=2))\n",
    "model.add(Convolution1D(nb_filter=maxlen*2, filter_length=3, border_mode='valid', activation='relu'))\n",
    "model.add(MaxPooling1D(pool_length=2))\n",
    "model.add(LSTM(256, return_sequences=False))\n",
    "model.add(Dense(len(hexs)))\n",
    "model.add(Activation('softmax'))\n",
    "\n",
    "optimizer = RMSprop(lr=0.01)\n",
    "model.compile(loss='categorical_crossentropy', optimizer=optimizer, metrics=['accuracy'])\n",
    "\n",
    "\n",
    "def sample(preds, temperature=1.0):    \n",
    "    preds = np.asarray(preds).astype('float64')\n",
    "    preds = np.log(preds) / temperature\n",
    "    exp_preds = np.exp(preds)\n",
    "    preds = exp_preds / np.sum(exp_preds)\n",
    "    probas = np.random.multinomial(1, preds, 1)\n",
    "    return np.argmax(probas)"
   ]
  },
  {
   "cell_type": "code",
   "execution_count": null,
   "metadata": {
    "collapsed": false
   },
   "outputs": [],
   "source": [
    "# train the model\n",
    "for iteration in range(1, 4):    \n",
    "    print('Iteration', iteration)\n",
    "    model.fit(X, y, batch_size=128, nb_epoch=10,  verbose=1)"
   ]
  },
  {
   "cell_type": "code",
   "execution_count": null,
   "metadata": {
    "collapsed": false
   },
   "outputs": [],
   "source": [
    "# testing with test dataset\n",
    "text = test\n",
    "print('corpus length:', len(text))\n",
    "chunk = chunkstring(text,2)\n"
   ]
  },
  {
   "cell_type": "code",
   "execution_count": null,
   "metadata": {
    "collapsed": false
   },
   "outputs": [],
   "source": [
    "\n",
    "step = 1\n",
    "sequences = []\n",
    "next_hex = []\n",
    "for i in range(0, len(chunk) - maxlen, step):\n",
    "    sequences.append(text[i*2: (i + maxlen)*2])\n",
    "    next_hex.append(text[(i + maxlen)*2:(i + maxlen + 1)*2])\n",
    "print('sequences:', len(sequences))\n",
    "\n",
    "\n",
    "print('Vectorization...')\n",
    "X = np.zeros((len(sequences), maxlen, len(hexs)), dtype=np.bool)\n",
    "y = np.zeros((len(sequences), len(hexs)), dtype=np.bool)\n",
    "for i, sequence in enumerate(sequences):\n",
    "    #print ('sequences', sequences)\n",
    "    for t, char in enumerate(chunkstring(sequence,2)):        \n",
    "        X[i, t, hex_indices[char]] = 1\n",
    "    y[i, hex_indices[next_hex[i]]] = 1"
   ]
  },
  {
   "cell_type": "code",
   "execution_count": null,
   "metadata": {
    "collapsed": false
   },
   "outputs": [],
   "source": [
    "n_true = 0\n",
    "diversity = 1\n",
    "for i,x in enumerate(X):\n",
    "    if i % 500 == 0:\n",
    "        print (\"Processed %d %d\" % (i,n_true))\n",
    "    x = x.reshape(1,maxlen,-1)\n",
    "    preds = model.predict(x, verbose=0)[0]\n",
    "\n",
    "    next_index = sample(preds, diversity)\n",
    "    #print (next_index)\n",
    "    next_hex = indices_hex[next_index]   \n",
    "    if next_hex == indices_hex[np.argmax(y[i])]:\n",
    "        n_true += 1\n",
    "print (\"%d %.3f%%\" % (n_true,100.0*n_true/len(sequences)))"
   ]
  },
  {
   "cell_type": "code",
   "execution_count": null,
   "metadata": {
    "collapsed": true
   },
   "outputs": [],
   "source": []
  }
 ],
 "metadata": {
  "kernelspec": {
   "display_name": "Python 2",
   "language": "python",
   "name": "python2"
  },
  "language_info": {
   "codemirror_mode": {
    "name": "ipython",
    "version": 2
   },
   "file_extension": ".py",
   "mimetype": "text/x-python",
   "name": "python",
   "nbconvert_exporter": "python",
   "pygments_lexer": "ipython2",
   "version": "2.7.11"
  }
 },
 "nbformat": 4,
 "nbformat_minor": 0
}
